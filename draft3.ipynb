{
 "cells": [
  {
   "cell_type": "markdown",
   "metadata": {
    "papermill": {
     "duration": 0.036391,
     "end_time": "2020-10-12T10:25:39.941452",
     "exception": false,
     "start_time": "2020-10-12T10:25:39.905061",
     "status": "completed"
    },
    "tags": []
   },
   "source": [
    "> ## Importing libraries"
   ]
  },
  {
   "cell_type": "code",
   "execution_count": 1,
   "metadata": {
    "_cell_guid": "79c7e3d0-c299-4dcb-8224-4455121ee9b0",
    "_uuid": "d629ff2d2480ee46fbb7e2d37f6b5fab8052498a",
    "execution": {
     "iopub.execute_input": "2020-10-12T10:25:40.021494Z",
     "iopub.status.busy": "2020-10-12T10:25:40.020501Z",
     "iopub.status.idle": "2020-10-12T10:25:42.979334Z",
     "shell.execute_reply": "2020-10-12T10:25:42.978210Z"
    },
    "papermill": {
     "duration": 3.002609,
     "end_time": "2020-10-12T10:25:42.979480",
     "exception": false,
     "start_time": "2020-10-12T10:25:39.976871",
     "status": "completed"
    },
    "tags": []
   },
   "outputs": [],
   "source": [
    "# Standard Libraries\n",
    "import re\n",
    "import csv\n",
    "import nltk\n",
    "import spacy\n",
    "import string\n",
    "import numpy as np\n",
    "import pandas as pd\n",
    "import seaborn as sns\n",
    "import matplotlib.pyplot as plt "
   ]
  },
  {
   "cell_type": "code",
   "execution_count": 2,
   "metadata": {
    "execution": {
     "iopub.execute_input": "2020-10-12T10:25:43.069780Z",
     "iopub.status.busy": "2020-10-12T10:25:43.068417Z",
     "iopub.status.idle": "2020-10-12T10:25:43.111716Z",
     "shell.execute_reply": "2020-10-12T10:25:43.110352Z"
    },
    "papermill": {
     "duration": 0.095441,
     "end_time": "2020-10-12T10:25:43.111956",
     "exception": false,
     "start_time": "2020-10-12T10:25:43.016515",
     "status": "completed"
    },
    "tags": []
   },
   "outputs": [],
   "source": [
    "# Visualisation Libraries\n",
    "import matplotlib.style as style \n",
    "sns.set(font_scale=1.5)\n",
    "style.use('seaborn-pastel')\n",
    "style.use('seaborn-poster')\n",
    "from PIL import Image\n",
    "from wordcloud import WordCloud"
   ]
  },
  {
   "cell_type": "code",
   "execution_count": 3,
   "metadata": {
    "execution": {
     "iopub.execute_input": "2020-10-12T10:25:43.196072Z",
     "iopub.status.busy": "2020-10-12T10:25:43.194837Z",
     "iopub.status.idle": "2020-10-12T10:25:43.334400Z",
     "shell.execute_reply": "2020-10-12T10:25:43.334989Z"
    },
    "papermill": {
     "duration": 0.182838,
     "end_time": "2020-10-12T10:25:43.335198",
     "exception": false,
     "start_time": "2020-10-12T10:25:43.152360",
     "status": "completed"
    },
    "tags": []
   },
   "outputs": [],
   "source": [
    "# Building classification models\n",
    "from sklearn.svm import LinearSVC\n",
    "from sklearn.pipeline import Pipeline\n",
    "from sklearn.naive_bayes import MultinomialNB\n",
    "from sklearn.neighbors import KNeighborsClassifier\n",
    "from sklearn.ensemble import RandomForestClassifier\n",
    "from sklearn.linear_model import LogisticRegression"
   ]
  },
  {
   "cell_type": "code",
   "execution_count": 4,
   "metadata": {
    "execution": {
     "iopub.execute_input": "2020-10-12T10:25:43.412914Z",
     "iopub.status.busy": "2020-10-12T10:25:43.411656Z",
     "iopub.status.idle": "2020-10-12T10:25:43.415872Z",
     "shell.execute_reply": "2020-10-12T10:25:43.415081Z"
    },
    "papermill": {
     "duration": 0.045364,
     "end_time": "2020-10-12T10:25:43.416004",
     "exception": false,
     "start_time": "2020-10-12T10:25:43.370640",
     "status": "completed"
    },
    "tags": []
   },
   "outputs": [],
   "source": [
    "# Model evaluation\n",
    "from sklearn import metrics\n",
    "from sklearn.metrics import classification_report, confusion_matrix, f1_score, precision_score, recall_score"
   ]
  },
  {
   "cell_type": "code",
   "execution_count": 5,
   "metadata": {
    "execution": {
     "iopub.execute_input": "2020-10-12T10:25:43.498087Z",
     "iopub.status.busy": "2020-10-12T10:25:43.497275Z",
     "iopub.status.idle": "2020-10-12T10:25:43.506176Z",
     "shell.execute_reply": "2020-10-12T10:25:43.505386Z"
    },
    "papermill": {
     "duration": 0.052976,
     "end_time": "2020-10-12T10:25:43.506352",
     "exception": false,
     "start_time": "2020-10-12T10:25:43.453376",
     "status": "completed"
    },
    "tags": []
   },
   "outputs": [],
   "source": [
    "# NLTK and Sklearn\n",
    "import en_core_web_sm\n",
    "from collections import Counter\n",
    "from nltk.probability import FreqDist\n",
    "from nltk.tokenize import word_tokenize\n",
    "from nltk.stem import WordNetLemmatizer \n",
    "from nltk.corpus import stopwords, wordnet  \n",
    "from sklearn.feature_extraction.text import CountVectorizer   \n",
    "from sklearn.feature_extraction.text import TfidfVectorizer\n",
    "from sklearn.feature_extraction.text import TfidfTransformer \n",
    "from sklearn.model_selection import train_test_split, RandomizedSearchCV"
   ]
  },
  {
   "cell_type": "code",
   "execution_count": 6,
   "metadata": {
    "execution": {
     "iopub.execute_input": "2020-10-12T10:25:43.589644Z",
     "iopub.status.busy": "2020-10-12T10:25:43.588513Z",
     "iopub.status.idle": "2020-10-12T10:27:05.360652Z",
     "shell.execute_reply": "2020-10-12T10:27:05.359420Z"
    },
    "papermill": {
     "duration": 81.818358,
     "end_time": "2020-10-12T10:27:05.360896",
     "exception": false,
     "start_time": "2020-10-12T10:25:43.542538",
     "status": "completed"
    },
    "tags": []
   },
   "outputs": [
    {
     "name": "stdout",
     "output_type": "stream",
     "text": [
      "[nltk_data] Error loading punkt: <urlopen error [Errno -3] Temporary\n",
      "[nltk_data]     failure in name resolution>\n",
      "[nltk_data] Error loading wordnet: <urlopen error [Errno -3] Temporary\n",
      "[nltk_data]     failure in name resolution>\n",
      "[nltk_data] Error loading stopwords: <urlopen error [Errno -3]\n",
      "[nltk_data]     Temporary failure in name resolution>\n",
      "[nltk_data] Error loading averaged_perceptron_tagger: <urlopen error\n",
      "[nltk_data]     [Errno -3] Temporary failure in name resolution>\n"
     ]
    },
    {
     "data": {
      "text/plain": [
       "False"
      ]
     },
     "execution_count": 6,
     "metadata": {},
     "output_type": "execute_result"
    }
   ],
   "source": [
    "# Spacy\n",
    "nlp = spacy.load('en')\n",
    "nltk.download('punkt')\n",
    "nltk.download('wordnet')\n",
    "nltk.download('stopwords')\n",
    "nltk.download('averaged_perceptron_tagger')"
   ]
  },
  {
   "cell_type": "code",
   "execution_count": 7,
   "metadata": {
    "execution": {
     "iopub.execute_input": "2020-10-12T10:27:05.449275Z",
     "iopub.status.busy": "2020-10-12T10:27:05.448068Z",
     "iopub.status.idle": "2020-10-12T10:27:05.451993Z",
     "shell.execute_reply": "2020-10-12T10:27:05.451298Z"
    },
    "papermill": {
     "duration": 0.051333,
     "end_time": "2020-10-12T10:27:05.452132",
     "exception": false,
     "start_time": "2020-10-12T10:27:05.400799",
     "status": "completed"
    },
    "tags": []
   },
   "outputs": [],
   "source": [
    "# Preprocessing\n",
    "import en_core_web_sm\n",
    "from collections import Counter\n",
    "from nltk.probability import FreqDist\n",
    "from nltk.tokenize import word_tokenize\n",
    "from nltk.stem import WordNetLemmatizer \n",
    "from nltk.corpus import stopwords, wordnet  \n",
    "from sklearn.feature_extraction.text import CountVectorizer   \n",
    "from sklearn.feature_extraction.text import TfidfVectorizer\n",
    "from sklearn.feature_extraction.text import TfidfTransformer \n",
    "from sklearn.model_selection import train_test_split, RandomizedSearchCV"
   ]
  },
  {
   "cell_type": "code",
   "execution_count": 8,
   "metadata": {
    "execution": {
     "iopub.execute_input": "2020-10-12T10:27:05.539797Z",
     "iopub.status.busy": "2020-10-12T10:27:05.538701Z",
     "iopub.status.idle": "2020-10-12T10:27:05.542516Z",
     "shell.execute_reply": "2020-10-12T10:27:05.541640Z"
    },
    "papermill": {
     "duration": 0.050679,
     "end_time": "2020-10-12T10:27:05.542667",
     "exception": false,
     "start_time": "2020-10-12T10:27:05.491988",
     "status": "completed"
    },
    "tags": []
   },
   "outputs": [],
   "source": [
    "# Building Models\n",
    "from sklearn.svm import LinearSVC\n",
    "from sklearn.pipeline import Pipeline\n",
    "from sklearn.naive_bayes import MultinomialNB\n",
    "from sklearn.neighbors import KNeighborsClassifier\n",
    "from sklearn.ensemble import RandomForestClassifier\n",
    "from sklearn.linear_model import LogisticRegression"
   ]
  },
  {
   "cell_type": "code",
   "execution_count": 9,
   "metadata": {
    "execution": {
     "iopub.execute_input": "2020-10-12T10:27:05.626951Z",
     "iopub.status.busy": "2020-10-12T10:27:05.625875Z",
     "iopub.status.idle": "2020-10-12T10:27:05.629609Z",
     "shell.execute_reply": "2020-10-12T10:27:05.628716Z"
    },
    "papermill": {
     "duration": 0.048296,
     "end_time": "2020-10-12T10:27:05.629756",
     "exception": false,
     "start_time": "2020-10-12T10:27:05.581460",
     "status": "completed"
    },
    "tags": []
   },
   "outputs": [],
   "source": [
    "# Model Evaulation and Scoring\n",
    "from sklearn import metrics\n",
    "from sklearn.metrics import classification_report, confusion_matrix, f1_score, precision_score, recall_score"
   ]
  },
  {
   "cell_type": "markdown",
   "metadata": {
    "papermill": {
     "duration": 0.038762,
     "end_time": "2020-10-12T10:27:05.707266",
     "exception": false,
     "start_time": "2020-10-12T10:27:05.668504",
     "status": "completed"
    },
    "tags": []
   },
   "source": [
    "## Load in your data from kaggle.  \n",
    "By working in a kaggle kernel, you can access the data directly from the competition, as well as make your submission without downloading your output file"
   ]
  },
  {
   "cell_type": "code",
   "execution_count": 10,
   "metadata": {
    "execution": {
     "iopub.execute_input": "2020-10-12T10:27:05.795329Z",
     "iopub.status.busy": "2020-10-12T10:27:05.794508Z",
     "iopub.status.idle": "2020-10-12T10:27:05.900911Z",
     "shell.execute_reply": "2020-10-12T10:27:05.901630Z"
    },
    "papermill": {
     "duration": 0.155891,
     "end_time": "2020-10-12T10:27:05.901833",
     "exception": false,
     "start_time": "2020-10-12T10:27:05.745942",
     "status": "completed"
    },
    "tags": []
   },
   "outputs": [],
   "source": [
    "train = pd.read_csv('../input/climate-change-edsa2020-21/train.csv')\n",
    "test = pd.read_csv('../input/climate-change-edsa2020-21/test.csv')"
   ]
  },
  {
   "cell_type": "markdown",
   "metadata": {
    "papermill": {
     "duration": 0.039192,
     "end_time": "2020-10-12T10:27:05.980088",
     "exception": false,
     "start_time": "2020-10-12T10:27:05.940896",
     "status": "completed"
    },
    "tags": []
   },
   "source": [
    "# Visualise the loaded datasets\n",
    "* Viewing the datasets that have been loaded "
   ]
  },
  {
   "cell_type": "code",
   "execution_count": 11,
   "metadata": {
    "execution": {
     "iopub.execute_input": "2020-10-12T10:27:06.067380Z",
     "iopub.status.busy": "2020-10-12T10:27:06.066329Z",
     "iopub.status.idle": "2020-10-12T10:27:06.070685Z",
     "shell.execute_reply": "2020-10-12T10:27:06.069884Z"
    },
    "papermill": {
     "duration": 0.050161,
     "end_time": "2020-10-12T10:27:06.070825",
     "exception": false,
     "start_time": "2020-10-12T10:27:06.020664",
     "status": "completed"
    },
    "tags": []
   },
   "outputs": [
    {
     "name": "stdout",
     "output_type": "stream",
     "text": [
      "(15819, 3)\n",
      "(10546, 2)\n"
     ]
    }
   ],
   "source": [
    "print(train.shape) \n",
    "print(test.shape)"
   ]
  },
  {
   "cell_type": "code",
   "execution_count": 12,
   "metadata": {
    "execution": {
     "iopub.execute_input": "2020-10-12T10:27:06.163226Z",
     "iopub.status.busy": "2020-10-12T10:27:06.162343Z",
     "iopub.status.idle": "2020-10-12T10:27:06.179172Z",
     "shell.execute_reply": "2020-10-12T10:27:06.178346Z"
    },
    "papermill": {
     "duration": 0.068188,
     "end_time": "2020-10-12T10:27:06.179314",
     "exception": false,
     "start_time": "2020-10-12T10:27:06.111126",
     "status": "completed"
    },
    "tags": []
   },
   "outputs": [
    {
     "data": {
      "text/html": [
       "<div>\n",
       "<style scoped>\n",
       "    .dataframe tbody tr th:only-of-type {\n",
       "        vertical-align: middle;\n",
       "    }\n",
       "\n",
       "    .dataframe tbody tr th {\n",
       "        vertical-align: top;\n",
       "    }\n",
       "\n",
       "    .dataframe thead th {\n",
       "        text-align: right;\n",
       "    }\n",
       "</style>\n",
       "<table border=\"1\" class=\"dataframe\">\n",
       "  <thead>\n",
       "    <tr style=\"text-align: right;\">\n",
       "      <th></th>\n",
       "      <th>sentiment</th>\n",
       "      <th>message</th>\n",
       "      <th>tweetid</th>\n",
       "    </tr>\n",
       "  </thead>\n",
       "  <tbody>\n",
       "    <tr>\n",
       "      <th>0</th>\n",
       "      <td>1</td>\n",
       "      <td>PolySciMajor EPA chief doesn't think carbon di...</td>\n",
       "      <td>625221</td>\n",
       "    </tr>\n",
       "    <tr>\n",
       "      <th>1</th>\n",
       "      <td>1</td>\n",
       "      <td>It's not like we lack evidence of anthropogeni...</td>\n",
       "      <td>126103</td>\n",
       "    </tr>\n",
       "    <tr>\n",
       "      <th>2</th>\n",
       "      <td>2</td>\n",
       "      <td>RT @RawStory: Researchers say we have three ye...</td>\n",
       "      <td>698562</td>\n",
       "    </tr>\n",
       "    <tr>\n",
       "      <th>3</th>\n",
       "      <td>1</td>\n",
       "      <td>#TodayinMaker# WIRED : 2016 was a pivotal year...</td>\n",
       "      <td>573736</td>\n",
       "    </tr>\n",
       "    <tr>\n",
       "      <th>4</th>\n",
       "      <td>1</td>\n",
       "      <td>RT @SoyNovioDeTodas: It's 2016, and a racist, ...</td>\n",
       "      <td>466954</td>\n",
       "    </tr>\n",
       "  </tbody>\n",
       "</table>\n",
       "</div>"
      ],
      "text/plain": [
       "   sentiment                                            message  tweetid\n",
       "0          1  PolySciMajor EPA chief doesn't think carbon di...   625221\n",
       "1          1  It's not like we lack evidence of anthropogeni...   126103\n",
       "2          2  RT @RawStory: Researchers say we have three ye...   698562\n",
       "3          1  #TodayinMaker# WIRED : 2016 was a pivotal year...   573736\n",
       "4          1  RT @SoyNovioDeTodas: It's 2016, and a racist, ...   466954"
      ]
     },
     "metadata": {},
     "output_type": "display_data"
    },
    {
     "data": {
      "text/html": [
       "<div>\n",
       "<style scoped>\n",
       "    .dataframe tbody tr th:only-of-type {\n",
       "        vertical-align: middle;\n",
       "    }\n",
       "\n",
       "    .dataframe tbody tr th {\n",
       "        vertical-align: top;\n",
       "    }\n",
       "\n",
       "    .dataframe thead th {\n",
       "        text-align: right;\n",
       "    }\n",
       "</style>\n",
       "<table border=\"1\" class=\"dataframe\">\n",
       "  <thead>\n",
       "    <tr style=\"text-align: right;\">\n",
       "      <th></th>\n",
       "      <th>message</th>\n",
       "      <th>tweetid</th>\n",
       "    </tr>\n",
       "  </thead>\n",
       "  <tbody>\n",
       "    <tr>\n",
       "      <th>0</th>\n",
       "      <td>Europe will now be looking to China to make su...</td>\n",
       "      <td>169760</td>\n",
       "    </tr>\n",
       "    <tr>\n",
       "      <th>1</th>\n",
       "      <td>Combine this with the polling of staffers re c...</td>\n",
       "      <td>35326</td>\n",
       "    </tr>\n",
       "    <tr>\n",
       "      <th>2</th>\n",
       "      <td>The scary, unimpeachable evidence that climate...</td>\n",
       "      <td>224985</td>\n",
       "    </tr>\n",
       "    <tr>\n",
       "      <th>3</th>\n",
       "      <td>@Karoli @morgfair @OsborneInk @dailykos \\nPuti...</td>\n",
       "      <td>476263</td>\n",
       "    </tr>\n",
       "    <tr>\n",
       "      <th>4</th>\n",
       "      <td>RT @FakeWillMoore: 'Female orgasms cause globa...</td>\n",
       "      <td>872928</td>\n",
       "    </tr>\n",
       "  </tbody>\n",
       "</table>\n",
       "</div>"
      ],
      "text/plain": [
       "                                             message  tweetid\n",
       "0  Europe will now be looking to China to make su...   169760\n",
       "1  Combine this with the polling of staffers re c...    35326\n",
       "2  The scary, unimpeachable evidence that climate...   224985\n",
       "3  @Karoli @morgfair @OsborneInk @dailykos \\nPuti...   476263\n",
       "4  RT @FakeWillMoore: 'Female orgasms cause globa...   872928"
      ]
     },
     "metadata": {},
     "output_type": "display_data"
    }
   ],
   "source": [
    "display(train.head())\n",
    "display(test.head())"
   ]
  },
  {
   "cell_type": "markdown",
   "metadata": {
    "papermill": {
     "duration": 0.040852,
     "end_time": "2020-10-12T10:27:06.261126",
     "exception": false,
     "start_time": "2020-10-12T10:27:06.220274",
     "status": "completed"
    },
    "tags": []
   },
   "source": [
    "# Identifying the Sentiments\n",
    "* Label sentiments\n",
    "* Pro = 1\n",
    "* Neutral = 0\n",
    "* Anti = -1\n",
    "* News = 2"
   ]
  },
  {
   "cell_type": "code",
   "execution_count": 13,
   "metadata": {
    "execution": {
     "iopub.execute_input": "2020-10-12T10:27:06.350357Z",
     "iopub.status.busy": "2020-10-12T10:27:06.349067Z",
     "iopub.status.idle": "2020-10-12T10:27:06.352685Z",
     "shell.execute_reply": "2020-10-12T10:27:06.351981Z"
    },
    "papermill": {
     "duration": 0.050322,
     "end_time": "2020-10-12T10:27:06.352829",
     "exception": false,
     "start_time": "2020-10-12T10:27:06.302507",
     "status": "completed"
    },
    "tags": []
   },
   "outputs": [],
   "source": [
    "# Firstly do a Sentiment count"
   ]
  },
  {
   "cell_type": "code",
   "execution_count": 14,
   "metadata": {
    "execution": {
     "iopub.execute_input": "2020-10-12T10:27:06.444296Z",
     "iopub.status.busy": "2020-10-12T10:27:06.443366Z",
     "iopub.status.idle": "2020-10-12T10:27:06.453026Z",
     "shell.execute_reply": "2020-10-12T10:27:06.452200Z"
    },
    "papermill": {
     "duration": 0.058939,
     "end_time": "2020-10-12T10:27:06.453182",
     "exception": false,
     "start_time": "2020-10-12T10:27:06.394243",
     "status": "completed"
    },
    "tags": []
   },
   "outputs": [
    {
     "data": {
      "text/plain": [
       " 1    8530\n",
       " 2    3640\n",
       " 0    2353\n",
       "-1    1296\n",
       "Name: sentiment, dtype: int64"
      ]
     },
     "execution_count": 14,
     "metadata": {},
     "output_type": "execute_result"
    }
   ],
   "source": [
    "train.sentiment.value_counts()"
   ]
  },
  {
   "cell_type": "code",
   "execution_count": 15,
   "metadata": {
    "execution": {
     "iopub.execute_input": "2020-10-12T10:27:06.549549Z",
     "iopub.status.busy": "2020-10-12T10:27:06.548683Z",
     "iopub.status.idle": "2020-10-12T10:27:06.552876Z",
     "shell.execute_reply": "2020-10-12T10:27:06.552128Z"
    },
    "papermill": {
     "duration": 0.056331,
     "end_time": "2020-10-12T10:27:06.553006",
     "exception": false,
     "start_time": "2020-10-12T10:27:06.496675",
     "status": "completed"
    },
    "tags": []
   },
   "outputs": [],
   "source": [
    "def update(df):\n",
    "    df = train.copy()\n",
    "    sentiment = df['sentiment']\n",
    "    word_sentiment = []\n",
    "\n",
    "    for i in sentiment :\n",
    "        if i == 1 :\n",
    "            word_sentiment.append('Pro')\n",
    "        elif i == 0 :\n",
    "            word_sentiment.append('Neutral')\n",
    "        elif i == -1 :\n",
    "            word_sentiment.append('Anti')\n",
    "        else :\n",
    "            word_sentiment.append('News')\n",
    "\n",
    "    df['sentiment'] = word_sentiment\n",
    "    \n",
    "    return df"
   ]
  },
  {
   "cell_type": "code",
   "execution_count": 16,
   "metadata": {
    "execution": {
     "iopub.execute_input": "2020-10-12T10:27:06.643423Z",
     "iopub.status.busy": "2020-10-12T10:27:06.642539Z",
     "iopub.status.idle": "2020-10-12T10:27:06.662807Z",
     "shell.execute_reply": "2020-10-12T10:27:06.662054Z"
    },
    "papermill": {
     "duration": 0.067943,
     "end_time": "2020-10-12T10:27:06.662943",
     "exception": false,
     "start_time": "2020-10-12T10:27:06.595000",
     "status": "completed"
    },
    "tags": []
   },
   "outputs": [
    {
     "data": {
      "text/html": [
       "<div>\n",
       "<style scoped>\n",
       "    .dataframe tbody tr th:only-of-type {\n",
       "        vertical-align: middle;\n",
       "    }\n",
       "\n",
       "    .dataframe tbody tr th {\n",
       "        vertical-align: top;\n",
       "    }\n",
       "\n",
       "    .dataframe thead th {\n",
       "        text-align: right;\n",
       "    }\n",
       "</style>\n",
       "<table border=\"1\" class=\"dataframe\">\n",
       "  <thead>\n",
       "    <tr style=\"text-align: right;\">\n",
       "      <th></th>\n",
       "      <th>sentiment</th>\n",
       "      <th>message</th>\n",
       "      <th>tweetid</th>\n",
       "    </tr>\n",
       "  </thead>\n",
       "  <tbody>\n",
       "    <tr>\n",
       "      <th>0</th>\n",
       "      <td>Pro</td>\n",
       "      <td>PolySciMajor EPA chief doesn't think carbon di...</td>\n",
       "      <td>625221</td>\n",
       "    </tr>\n",
       "    <tr>\n",
       "      <th>1</th>\n",
       "      <td>Pro</td>\n",
       "      <td>It's not like we lack evidence of anthropogeni...</td>\n",
       "      <td>126103</td>\n",
       "    </tr>\n",
       "    <tr>\n",
       "      <th>2</th>\n",
       "      <td>News</td>\n",
       "      <td>RT @RawStory: Researchers say we have three ye...</td>\n",
       "      <td>698562</td>\n",
       "    </tr>\n",
       "    <tr>\n",
       "      <th>3</th>\n",
       "      <td>Pro</td>\n",
       "      <td>#TodayinMaker# WIRED : 2016 was a pivotal year...</td>\n",
       "      <td>573736</td>\n",
       "    </tr>\n",
       "    <tr>\n",
       "      <th>4</th>\n",
       "      <td>Pro</td>\n",
       "      <td>RT @SoyNovioDeTodas: It's 2016, and a racist, ...</td>\n",
       "      <td>466954</td>\n",
       "    </tr>\n",
       "  </tbody>\n",
       "</table>\n",
       "</div>"
      ],
      "text/plain": [
       "  sentiment                                            message  tweetid\n",
       "0       Pro  PolySciMajor EPA chief doesn't think carbon di...   625221\n",
       "1       Pro  It's not like we lack evidence of anthropogeni...   126103\n",
       "2      News  RT @RawStory: Researchers say we have three ye...   698562\n",
       "3       Pro  #TodayinMaker# WIRED : 2016 was a pivotal year...   573736\n",
       "4       Pro  RT @SoyNovioDeTodas: It's 2016, and a racist, ...   466954"
      ]
     },
     "execution_count": 16,
     "metadata": {},
     "output_type": "execute_result"
    }
   ],
   "source": [
    "df = update(train)\n",
    "df.head()"
   ]
  },
  {
   "cell_type": "markdown",
   "metadata": {
    "papermill": {
     "duration": 0.042657,
     "end_time": "2020-10-12T10:27:06.748439",
     "exception": false,
     "start_time": "2020-10-12T10:27:06.705782",
     "status": "completed"
    },
    "tags": []
   },
   "source": [
    "# Cleaning Tweets\n",
    "* Removing noise from all tweets"
   ]
  },
  {
   "cell_type": "code",
   "execution_count": 17,
   "metadata": {
    "execution": {
     "iopub.execute_input": "2020-10-12T10:27:06.845609Z",
     "iopub.status.busy": "2020-10-12T10:27:06.844406Z",
     "iopub.status.idle": "2020-10-12T10:27:06.848434Z",
     "shell.execute_reply": "2020-10-12T10:27:06.847706Z"
    },
    "papermill": {
     "duration": 0.057298,
     "end_time": "2020-10-12T10:27:06.848587",
     "exception": false,
     "start_time": "2020-10-12T10:27:06.791289",
     "status": "completed"
    },
    "tags": []
   },
   "outputs": [],
   "source": [
    "def TweetClean(tweet):\n",
    "    \n",
    "    # Remove hashtags from the tweet\n",
    "    tweet = re.sub(r'#\\w*', '', tweet) \n",
    "    \n",
    "    # Convert all text to lowercase\n",
    "    tweet = tweet.lower()\n",
    "    \n",
    "    # Remove url's that appear in the tweets\n",
    "    tweet = re.sub(r'https?:\\/\\/.*\\/\\w*', '', tweet) \n",
    "    \n",
    "    # Remove mentions in the tweet\n",
    "    tweet = re.sub('@[\\w]*','',tweet)  \n",
    "    \n",
    "    # Remove any numbers that appear in the tweet\n",
    "    tweet = re.sub(r'\\d+', '', tweet) \n",
    "    \n",
    "    # Remove blackspace from the tweet\n",
    "    tweet = re.sub(r'\\s\\s+', ' ', tweet)\n",
    "    \n",
    "    # Remove any punctuation from the Tweet\n",
    "    tweet = re.sub(r\"[,.;':@#?!\\&/$]+\\ *\", ' ', tweet) \n",
    "    \n",
    "    # Remove strange characters from tweet\n",
    "    tweet = re.sub(r\"U+FFFD \", ' ', tweet) \n",
    "        \n",
    "    # Remove blank spaces in front of tweet  \n",
    "    tweet = tweet.lstrip(' ') \n",
    "    \n",
    "    return tweet"
   ]
  },
  {
   "cell_type": "code",
   "execution_count": 18,
   "metadata": {
    "execution": {
     "iopub.execute_input": "2020-10-12T10:27:06.940309Z",
     "iopub.status.busy": "2020-10-12T10:27:06.939465Z",
     "iopub.status.idle": "2020-10-12T10:27:06.943637Z",
     "shell.execute_reply": "2020-10-12T10:27:06.942818Z"
    },
    "papermill": {
     "duration": 0.052151,
     "end_time": "2020-10-12T10:27:06.943792",
     "exception": false,
     "start_time": "2020-10-12T10:27:06.891641",
     "status": "completed"
    },
    "tags": []
   },
   "outputs": [],
   "source": [
    "# Cleaning the tweets in the message column"
   ]
  },
  {
   "cell_type": "code",
   "execution_count": 19,
   "metadata": {
    "execution": {
     "iopub.execute_input": "2020-10-12T10:27:07.042669Z",
     "iopub.status.busy": "2020-10-12T10:27:07.041836Z",
     "iopub.status.idle": "2020-10-12T10:27:07.975519Z",
     "shell.execute_reply": "2020-10-12T10:27:07.974706Z"
    },
    "papermill": {
     "duration": 0.98853,
     "end_time": "2020-10-12T10:27:07.975655",
     "exception": false,
     "start_time": "2020-10-12T10:27:06.987125",
     "status": "completed"
    },
    "tags": []
   },
   "outputs": [],
   "source": [
    "df['message'] = df['message'].apply(TweetClean)\n",
    "df['message'] = df['message'].apply(TweetClean)"
   ]
  },
  {
   "cell_type": "code",
   "execution_count": 20,
   "metadata": {
    "execution": {
     "iopub.execute_input": "2020-10-12T10:27:08.073914Z",
     "iopub.status.busy": "2020-10-12T10:27:08.068744Z",
     "iopub.status.idle": "2020-10-12T10:27:08.079215Z",
     "shell.execute_reply": "2020-10-12T10:27:08.078531Z"
    },
    "papermill": {
     "duration": 0.060169,
     "end_time": "2020-10-12T10:27:08.079353",
     "exception": false,
     "start_time": "2020-10-12T10:27:08.019184",
     "status": "completed"
    },
    "tags": []
   },
   "outputs": [
    {
     "data": {
      "text/plain": [
       "<bound method NDFrame.head of       sentiment                                            message  tweetid\n",
       "0           Pro  polyscimajor epa chief doesn t think carbon di...   625221\n",
       "1           Pro  it s not like we lack evidence of anthropogeni...   126103\n",
       "2          News  rt researchers say we have three years to act ...   698562\n",
       "3           Pro  wired was a pivotal year in the war on climate...   573736\n",
       "4           Pro  rt it s and a racist sexist climate change den...   466954\n",
       "...         ...                                                ...      ...\n",
       "15814       Pro  rt they took down the material on global warmi...    22001\n",
       "15815      News  rt how climate change could be breaking up a -...    17856\n",
       "15816   Neutral  notiven rt nytimesworld what does trump actual...   384248\n",
       "15817      Anti  rt hey liberals the climate change crap is a h...   819732\n",
       "15818   Neutral       rt s climate change equation in screenshots    806319\n",
       "\n",
       "[15819 rows x 3 columns]>"
      ]
     },
     "execution_count": 20,
     "metadata": {},
     "output_type": "execute_result"
    }
   ],
   "source": [
    "df.head"
   ]
  },
  {
   "cell_type": "markdown",
   "metadata": {
    "papermill": {
     "duration": 0.044356,
     "end_time": "2020-10-12T10:27:08.167873",
     "exception": false,
     "start_time": "2020-10-12T10:27:08.123517",
     "status": "completed"
    },
    "tags": []
   },
   "source": [
    "# Speech Tagging & Lemmatization\n",
    "* Modifies original train dataframe\n",
    "* Extra Column for length of each Tweet\n",
    "* Tweets tokenized, tagged and Lemmatized "
   ]
  },
  {
   "cell_type": "code",
   "execution_count": 21,
   "metadata": {
    "execution": {
     "iopub.execute_input": "2020-10-12T10:27:08.288243Z",
     "iopub.status.busy": "2020-10-12T10:27:08.270400Z",
     "iopub.status.idle": "2020-10-12T10:27:36.183359Z",
     "shell.execute_reply": "2020-10-12T10:27:36.183969Z"
    },
    "papermill": {
     "duration": 27.972275,
     "end_time": "2020-10-12T10:27:36.184213",
     "exception": false,
     "start_time": "2020-10-12T10:27:08.211938",
     "status": "completed"
    },
    "tags": []
   },
   "outputs": [],
   "source": [
    "def lem(df):\n",
    "    df['length'] = df['message'].str.len()\n",
    "    df['tokenized'] = df['message'].apply(word_tokenize)\n",
    "    df['pos_tags'] = df['tokenized'].apply(nltk.tag.pos_tag)\n",
    "\n",
    "def get_wordnet_position(tag):\n",
    "    if tag.startswith('J'):\n",
    "        return wordnet.ADJ\n",
    "\n",
    "    elif tag.startswith('V'):\n",
    "        return wordnet.VERB\n",
    "\n",
    "    elif tag.startswith('N'):\n",
    "          return wordnet.NOUN\n",
    "\n",
    "    elif tag.startswith('R'):\n",
    "          return wordnet.ADV\n",
    "        \n",
    "    else:\n",
    "        return wordnet.NOUN\n",
    "        \n",
    "    wl = WordNetLemmatizer()\n",
    "    df['pos_tags'] = df['pos_tags'].apply(lambda x: [(word, get_wordnet_pos(pos_tag)) for (word, pos_tag) in x])\n",
    "    df['lemmatized'] = df['pos_tags'].apply(lambda x: [wnl.lemmatize(word, tag) for word, tag in x])\n",
    "    df['lemmatized'] = [' '.join(map(str, l)) for l in df['lemmatized']]  \n",
    "    return df\n",
    "\n",
    "df = lem(df)\n"
   ]
  },
  {
   "cell_type": "markdown",
   "metadata": {
    "papermill": {
     "duration": 0.043744,
     "end_time": "2020-10-12T10:27:36.272658",
     "exception": false,
     "start_time": "2020-10-12T10:27:36.228914",
     "status": "completed"
    },
    "tags": []
   },
   "source": [
    "## Splitting out the X variable from the target\n",
    "* Separate features and variables"
   ]
  },
  {
   "cell_type": "code",
   "execution_count": 22,
   "metadata": {
    "execution": {
     "iopub.execute_input": "2020-10-12T10:27:36.368116Z",
     "iopub.status.busy": "2020-10-12T10:27:36.367311Z",
     "iopub.status.idle": "2020-10-12T10:27:36.373221Z",
     "shell.execute_reply": "2020-10-12T10:27:36.372508Z"
    },
    "papermill": {
     "duration": 0.056532,
     "end_time": "2020-10-12T10:27:36.373368",
     "exception": false,
     "start_time": "2020-10-12T10:27:36.316836",
     "status": "completed"
    },
    "tags": []
   },
   "outputs": [],
   "source": [
    "y = train['sentiment']\n",
    "X = train['message']"
   ]
  },
  {
   "cell_type": "code",
   "execution_count": 23,
   "metadata": {
    "execution": {
     "iopub.execute_input": "2020-10-12T10:27:36.467638Z",
     "iopub.status.busy": "2020-10-12T10:27:36.466518Z",
     "iopub.status.idle": "2020-10-12T10:27:36.470546Z",
     "shell.execute_reply": "2020-10-12T10:27:36.469686Z"
    },
    "papermill": {
     "duration": 0.053192,
     "end_time": "2020-10-12T10:27:36.470683",
     "exception": false,
     "start_time": "2020-10-12T10:27:36.417491",
     "status": "completed"
    },
    "tags": []
   },
   "outputs": [],
   "source": [
    "#Create validation dataset"
   ]
  },
  {
   "cell_type": "code",
   "execution_count": 24,
   "metadata": {
    "execution": {
     "iopub.execute_input": "2020-10-12T10:27:36.568996Z",
     "iopub.status.busy": "2020-10-12T10:27:36.567730Z",
     "iopub.status.idle": "2020-10-12T10:27:36.574809Z",
     "shell.execute_reply": "2020-10-12T10:27:36.574191Z"
    },
    "papermill": {
     "duration": 0.058927,
     "end_time": "2020-10-12T10:27:36.574957",
     "exception": false,
     "start_time": "2020-10-12T10:27:36.516030",
     "status": "completed"
    },
    "tags": []
   },
   "outputs": [],
   "source": [
    "X_train, X_valid, y_train, y_valid = train_test_split(X, y, test_size=0.25, random_state=42)"
   ]
  },
  {
   "cell_type": "code",
   "execution_count": null,
   "metadata": {
    "papermill": {
     "duration": 0.044639,
     "end_time": "2020-10-12T10:27:36.664301",
     "exception": false,
     "start_time": "2020-10-12T10:27:36.619662",
     "status": "completed"
    },
    "tags": []
   },
   "outputs": [],
   "source": []
  },
  {
   "cell_type": "markdown",
   "metadata": {
    "papermill": {
     "duration": 0.044556,
     "end_time": "2020-10-12T10:27:36.753506",
     "exception": false,
     "start_time": "2020-10-12T10:27:36.708950",
     "status": "completed"
    },
    "tags": []
   },
   "source": [
    "# Building & Identifying most effective Classification Models\n",
    "*  Will be using 3 models\n",
    "1. Random Forrest\n",
    "2. Naive Bayes\n",
    "3. Linear SCV"
   ]
  },
  {
   "cell_type": "markdown",
   "metadata": {
    "papermill": {
     "duration": 0.044136,
     "end_time": "2020-10-12T10:27:36.842534",
     "exception": false,
     "start_time": "2020-10-12T10:27:36.798398",
     "status": "completed"
    },
    "tags": []
   },
   "source": [
    "## Turning text into something your model can read"
   ]
  },
  {
   "cell_type": "code",
   "execution_count": 25,
   "metadata": {
    "execution": {
     "iopub.execute_input": "2020-10-12T10:27:36.937188Z",
     "iopub.status.busy": "2020-10-12T10:27:36.936400Z",
     "iopub.status.idle": "2020-10-12T10:27:36.940310Z",
     "shell.execute_reply": "2020-10-12T10:27:36.939643Z"
    },
    "papermill": {
     "duration": 0.053218,
     "end_time": "2020-10-12T10:27:36.940464",
     "exception": false,
     "start_time": "2020-10-12T10:27:36.887246",
     "status": "completed"
    },
    "tags": []
   },
   "outputs": [],
   "source": [
    "# Vectorize the models "
   ]
  },
  {
   "cell_type": "code",
   "execution_count": 26,
   "metadata": {
    "execution": {
     "iopub.execute_input": "2020-10-12T10:27:37.078130Z",
     "iopub.status.busy": "2020-10-12T10:27:37.062521Z",
     "iopub.status.idle": "2020-10-12T10:27:40.132987Z",
     "shell.execute_reply": "2020-10-12T10:27:40.132186Z"
    },
    "papermill": {
     "duration": 3.147507,
     "end_time": "2020-10-12T10:27:40.133136",
     "exception": false,
     "start_time": "2020-10-12T10:27:36.985629",
     "status": "completed"
    },
    "tags": []
   },
   "outputs": [],
   "source": [
    "# 1. Random Forest:\n",
    "\n",
    "rf = Pipeline([('tfidf', TfidfVectorizer()),\n",
    "               ('clf', RandomForestClassifier(max_depth=5, \n",
    "                                              n_estimators=100))])\n",
    "\n",
    "# 2. Naïve Bayes:\n",
    "\n",
    "nb = Pipeline([('tfidf', TfidfVectorizer()),\n",
    "               ('clf', MultinomialNB())])\n",
    "\n",
    "\n",
    "# 3. Linear SVC:\n",
    "\n",
    "lsvc = Pipeline([('tfidf', TfidfVectorizer()),\n",
    "                 ('clf', LinearSVC(class_weight='balanced'))])\n",
    "\n",
    "# Fit the models that have been chosen for the challenge\n",
    "# 1. Random Forest \n",
    "\n",
    "rf.fit(X_train, y_train)\n",
    "y_pred_rf = rf.predict(X_valid)\n",
    "\n",
    "# 2. Naive Bayes\n",
    "\n",
    "nb.fit(X_train, y_train)\n",
    "y_pred_nb = nb.predict(X_valid)\n",
    "\n",
    "# 3. Linear SVC\n",
    "\n",
    "lsvc.fit(X_train, y_train)\n",
    "y_pred_lsvc = lsvc.predict(X_valid)"
   ]
  },
  {
   "cell_type": "markdown",
   "metadata": {
    "papermill": {
     "duration": 0.045758,
     "end_time": "2020-10-12T10:27:40.225167",
     "exception": false,
     "start_time": "2020-10-12T10:27:40.179409",
     "status": "completed"
    },
    "tags": []
   },
   "source": [
    "# Visualise the Output from Random Forest Model"
   ]
  },
  {
   "cell_type": "code",
   "execution_count": 27,
   "metadata": {
    "execution": {
     "iopub.execute_input": "2020-10-12T10:27:40.330056Z",
     "iopub.status.busy": "2020-10-12T10:27:40.328364Z",
     "iopub.status.idle": "2020-10-12T10:27:40.750126Z",
     "shell.execute_reply": "2020-10-12T10:27:40.749299Z"
    },
    "papermill": {
     "duration": 0.478546,
     "end_time": "2020-10-12T10:27:40.750293",
     "exception": false,
     "start_time": "2020-10-12T10:27:40.271747",
     "status": "completed"
    },
    "tags": []
   },
   "outputs": [
    {
     "name": "stderr",
     "output_type": "stream",
     "text": [
      "/opt/conda/lib/python3.7/site-packages/sklearn/metrics/_classification.py:1221: UndefinedMetricWarning: Precision and F-score are ill-defined and being set to 0.0 in labels with no predicted samples. Use `zero_division` parameter to control this behavior.\n",
      "  _warn_prf(average, modifier, msg_start, len(result))\n"
     ]
    },
    {
     "name": "stdout",
     "output_type": "stream",
     "text": [
      "              precision    recall  f1-score   support\n",
      "\n",
      "          -1       0.00      0.00      0.00       336\n",
      "           0       0.00      0.00      0.00       547\n",
      "           1       0.55      1.00      0.71      2178\n",
      "           2       0.00      0.00      0.00       894\n",
      "\n",
      "    accuracy                           0.55      3955\n",
      "   macro avg       0.14      0.25      0.18      3955\n",
      "weighted avg       0.30      0.55      0.39      3955\n",
      "\n"
     ]
    },
    {
     "data": {
      "image/png": "[encoded data removed]",
      "text/plain": [
       "<Figure size 921.6x633.6 with 2 Axes>"
      ]
     },
     "metadata": {},
     "output_type": "display_data"
    }
   ],
   "source": [
    "# Output Classification Report, Random Forest\n",
    "\n",
    "print(metrics.classification_report(y_valid, y_pred_rf))\n",
    "\n",
    "# Normalized Confusion Matrix\n",
    "\n",
    "cm = confusion_matrix(y_valid, y_pred_rf)\n",
    "cm_norm = cm / cm.sum(axis=1).reshape(-1,1)\n",
    "\n",
    "# Display as a Heatmap\n",
    "\n",
    "sns.heatmap(cm_norm, \n",
    "            cmap=\"YlGnBu\", \n",
    "            xticklabels=rf.classes_, \n",
    "            yticklabels=rf.classes_, \n",
    "            vmin=0., \n",
    "            vmax=1., \n",
    "            annot=True, \n",
    "            annot_kws={'size':10})\n",
    "\n",
    "# Adding headings and lables\n",
    "plt.title('Random forest classification')\n",
    "plt.ylabel('True label')\n",
    "plt.xlabel('Predicted label')\n",
    "plt.show()"
   ]
  },
  {
   "cell_type": "code",
   "execution_count": null,
   "metadata": {
    "papermill": {
     "duration": 0.049809,
     "end_time": "2020-10-12T10:27:40.849414",
     "exception": false,
     "start_time": "2020-10-12T10:27:40.799605",
     "status": "completed"
    },
    "tags": []
   },
   "outputs": [],
   "source": []
  },
  {
   "cell_type": "markdown",
   "metadata": {
    "papermill": {
     "duration": 0.048696,
     "end_time": "2020-10-12T10:27:40.946804",
     "exception": false,
     "start_time": "2020-10-12T10:27:40.898108",
     "status": "completed"
    },
    "tags": []
   },
   "source": [
    "# Visualise the Output from Naive Bayes Model"
   ]
  },
  {
   "cell_type": "code",
   "execution_count": 28,
   "metadata": {
    "execution": {
     "iopub.execute_input": "2020-10-12T10:27:41.056181Z",
     "iopub.status.busy": "2020-10-12T10:27:41.054925Z",
     "iopub.status.idle": "2020-10-12T10:27:41.415128Z",
     "shell.execute_reply": "2020-10-12T10:27:41.414509Z"
    },
    "papermill": {
     "duration": 0.41942,
     "end_time": "2020-10-12T10:27:41.415285",
     "exception": false,
     "start_time": "2020-10-12T10:27:40.995865",
     "status": "completed"
    },
    "tags": []
   },
   "outputs": [
    {
     "name": "stdout",
     "output_type": "stream",
     "text": [
      "              precision    recall  f1-score   support\n",
      "\n",
      "          -1       0.00      0.00      0.00       336\n",
      "           0       1.00      0.05      0.09       547\n",
      "           1       0.60      0.99      0.75      2178\n",
      "           2       0.94      0.33      0.48       894\n",
      "\n",
      "    accuracy                           0.63      3955\n",
      "   macro avg       0.63      0.34      0.33      3955\n",
      "weighted avg       0.68      0.63      0.53      3955\n",
      "\n"
     ]
    },
    {
     "data": {
      "image/png": "[encoded data removed]",
      "text/plain": [
       "<Figure size 921.6x633.6 with 2 Axes>"
      ]
     },
     "metadata": {},
     "output_type": "display_data"
    }
   ],
   "source": [
    "# Classification Report for the Naive Bayes model\n",
    "\n",
    "print(metrics.classification_report(y_valid, y_pred_nb))\n",
    "\n",
    "# Normalized Confusion Matrix\n",
    "\n",
    "cm = confusion_matrix(y_valid, y_pred_nb)\n",
    "cm_norm = cm / cm.sum(axis=1).reshape(-1,1)\n",
    "\n",
    "# Display Heatmap\n",
    "\n",
    "sns.heatmap(cm_norm, \n",
    "            cmap=\"YlGnBu\", \n",
    "            xticklabels=nb.classes_, \n",
    "            yticklabels=nb.classes_, \n",
    "            vmin=0., \n",
    "            vmax=1., \n",
    "            annot=True, \n",
    "            annot_kws={'size':10})\n",
    "\n",
    "plt.title('Naive Bayes classification')\n",
    "plt.ylabel('True label')\n",
    "plt.xlabel('Predicted label')\n",
    "plt.show()"
   ]
  },
  {
   "cell_type": "code",
   "execution_count": null,
   "metadata": {
    "papermill": {
     "duration": 0.052498,
     "end_time": "2020-10-12T10:27:41.519240",
     "exception": false,
     "start_time": "2020-10-12T10:27:41.466742",
     "status": "completed"
    },
    "tags": []
   },
   "outputs": [],
   "source": []
  },
  {
   "cell_type": "markdown",
   "metadata": {
    "papermill": {
     "duration": 0.050605,
     "end_time": "2020-10-12T10:27:41.620737",
     "exception": false,
     "start_time": "2020-10-12T10:27:41.570132",
     "status": "completed"
    },
    "tags": []
   },
   "source": [
    "# Visualise Linear SVC Model"
   ]
  },
  {
   "cell_type": "code",
   "execution_count": 29,
   "metadata": {
    "execution": {
     "iopub.execute_input": "2020-10-12T10:27:41.734440Z",
     "iopub.status.busy": "2020-10-12T10:27:41.731920Z",
     "iopub.status.idle": "2020-10-12T10:27:42.255433Z",
     "shell.execute_reply": "2020-10-12T10:27:42.254766Z"
    },
    "papermill": {
     "duration": 0.583389,
     "end_time": "2020-10-12T10:27:42.255595",
     "exception": false,
     "start_time": "2020-10-12T10:27:41.672206",
     "status": "completed"
    },
    "tags": []
   },
   "outputs": [
    {
     "name": "stdout",
     "output_type": "stream",
     "text": [
      "              precision    recall  f1-score   support\n",
      "\n",
      "          -1       0.63      0.57      0.60       336\n",
      "           0       0.57      0.49      0.53       547\n",
      "           1       0.82      0.80      0.81      2178\n",
      "           2       0.71      0.84      0.77       894\n",
      "\n",
      "    accuracy                           0.75      3955\n",
      "   macro avg       0.68      0.68      0.68      3955\n",
      "weighted avg       0.74      0.75      0.74      3955\n",
      "\n"
     ]
    },
    {
     "data": {
      "image/png": "[encoded data removed]",
      "text/plain": [
       "<Figure size 921.6x633.6 with 2 Axes>"
      ]
     },
     "metadata": {},
     "output_type": "display_data"
    }
   ],
   "source": [
    "# Generate Linear SVC Model\n",
    "\n",
    "print(metrics.classification_report(y_valid, y_pred_lsvc))\n",
    "\n",
    "# Generate Confusion Matrix\n",
    "\n",
    "cm = confusion_matrix(y_valid, y_pred_lsvc)\n",
    "cm_norm = cm / cm.sum(axis=1).reshape(-1,1)\n",
    "\n",
    "# Heatmap\n",
    "\n",
    "sns.heatmap(cm_norm, \n",
    "            cmap=\"YlGnBu\", \n",
    "            xticklabels=lsvc.classes_, \n",
    "            yticklabels=lsvc.classes_, \n",
    "            vmin=0., \n",
    "            vmax=1., \n",
    "            annot=True, \n",
    "            annot_kws={'size':10})\n",
    "\n",
    "plt.title('Linear SVC Classification')\n",
    "plt.ylabel('True label')\n",
    "plt.xlabel('Predicted label')\n",
    "plt.show()\n",
    "\n",
    "# The Linear SVC Model produced the highest F1 Score of the 3 models sullected at 0.74\n",
    "# As a result, Linear SVC Model will be used in the Kaggle Submission and the other models disgarded.\n"
   ]
  },
  {
   "cell_type": "markdown",
   "metadata": {
    "papermill": {
     "duration": 0.052999,
     "end_time": "2020-10-12T10:27:42.362041",
     "exception": false,
     "start_time": "2020-10-12T10:27:42.309042",
     "status": "completed"
    },
    "tags": []
   },
   "source": []
  },
  {
   "cell_type": "markdown",
   "metadata": {
    "papermill": {
     "duration": 0.052285,
     "end_time": "2020-10-12T10:27:42.467078",
     "exception": false,
     "start_time": "2020-10-12T10:27:42.414793",
     "status": "completed"
    },
    "tags": []
   },
   "source": [
    "# Hyperparameter - Tuning on the Linear Model to assist in improving the F1 score\n",
    "* Retrain Linear SVC using Hyperparameter:"
   ]
  },
  {
   "cell_type": "code",
   "execution_count": 30,
   "metadata": {
    "execution": {
     "iopub.execute_input": "2020-10-12T10:27:42.622871Z",
     "iopub.status.busy": "2020-10-12T10:27:42.597005Z",
     "iopub.status.idle": "2020-10-12T10:27:44.402904Z",
     "shell.execute_reply": "2020-10-12T10:27:44.402034Z"
    },
    "papermill": {
     "duration": 1.883086,
     "end_time": "2020-10-12T10:27:44.403056",
     "exception": false,
     "start_time": "2020-10-12T10:27:42.519970",
     "status": "completed"
    },
    "tags": []
   },
   "outputs": [
    {
     "name": "stdout",
     "output_type": "stream",
     "text": [
      "F1 score improved by 2.0 %\n"
     ]
    }
   ],
   "source": [
    "lsvc_op = Pipeline([('tfidf', TfidfVectorizer(max_df=0.8,\n",
    "                                                    min_df=2,\n",
    "                                                    ngram_range=(1,2))),\n",
    "                  ('clf', LinearSVC(C=0.3,\n",
    "                                    class_weight='balanced',\n",
    "                                    max_iter=3000))])\n",
    "\n",
    "# Fit and predict\n",
    "lsvc_op.fit(X_train, y_train)\n",
    "y_pred = lsvc_op.predict(X_valid)\n",
    "\n",
    "print('F1 score improved by',\n",
    "      round(100*((metrics.accuracy_score(y_pred, y_valid) - metrics.accuracy_score(y_pred_lsvc, y_valid)) /metrics.accuracy_score(y_pred_lsvc, y_valid)),0), \n",
    "      '%')"
   ]
  },
  {
   "cell_type": "markdown",
   "metadata": {
    "papermill": {
     "duration": 0.051601,
     "end_time": "2020-10-12T10:27:44.506561",
     "exception": false,
     "start_time": "2020-10-12T10:27:44.454960",
     "status": "completed"
    },
    "tags": []
   },
   "source": [
    "## Creating an output csv for submission"
   ]
  },
  {
   "cell_type": "code",
   "execution_count": 31,
   "metadata": {
    "execution": {
     "iopub.execute_input": "2020-10-12T10:27:44.619387Z",
     "iopub.status.busy": "2020-10-12T10:27:44.618469Z",
     "iopub.status.idle": "2020-10-12T10:27:44.779630Z",
     "shell.execute_reply": "2020-10-12T10:27:44.778793Z"
    },
    "papermill": {
     "duration": 0.220041,
     "end_time": "2020-10-12T10:27:44.779772",
     "exception": false,
     "start_time": "2020-10-12T10:27:44.559731",
     "status": "completed"
    },
    "tags": []
   },
   "outputs": [
    {
     "ename": "KeyError",
     "evalue": "\"['sentiment'] not in index\"",
     "output_type": "error",
     "traceback": [
      "\u001b[0;31m---------------------------------------------------------------------------\u001b[0m",
      "\u001b[0;31mKeyError\u001b[0m                                  Traceback (most recent call last)",
      "\u001b[0;32m<ipython-input-31-30199316cf61>\u001b[0m in \u001b[0;36m<module>\u001b[0;34m\u001b[0m\n\u001b[0;32m----> 1\u001b[0;31m \u001b[0mtest\u001b[0m\u001b[0;34m[\u001b[0m\u001b[0;34m[\u001b[0m\u001b[0;34m'tweetid'\u001b[0m\u001b[0;34m,\u001b[0m\u001b[0;34m'sentiment'\u001b[0m\u001b[0;34m]\u001b[0m\u001b[0;34m]\u001b[0m\u001b[0;34m.\u001b[0m\u001b[0mto_csv\u001b[0m\u001b[0;34m(\u001b[0m\u001b[0;34m'testsubmission.csv'\u001b[0m\u001b[0;34m,\u001b[0m \u001b[0mindex\u001b[0m\u001b[0;34m=\u001b[0m\u001b[0;32mFalse\u001b[0m\u001b[0;34m)\u001b[0m\u001b[0;34m\u001b[0m\u001b[0;34m\u001b[0m\u001b[0m\n\u001b[0m",
      "\u001b[0;32m/opt/conda/lib/python3.7/site-packages/pandas/core/frame.py\u001b[0m in \u001b[0;36m__getitem__\u001b[0;34m(self, key)\u001b[0m\n\u001b[1;32m   2906\u001b[0m             \u001b[0;32mif\u001b[0m \u001b[0mis_iterator\u001b[0m\u001b[0;34m(\u001b[0m\u001b[0mkey\u001b[0m\u001b[0;34m)\u001b[0m\u001b[0;34m:\u001b[0m\u001b[0;34m\u001b[0m\u001b[0;34m\u001b[0m\u001b[0m\n\u001b[1;32m   2907\u001b[0m                 \u001b[0mkey\u001b[0m \u001b[0;34m=\u001b[0m \u001b[0mlist\u001b[0m\u001b[0;34m(\u001b[0m\u001b[0mkey\u001b[0m\u001b[0;34m)\u001b[0m\u001b[0;34m\u001b[0m\u001b[0;34m\u001b[0m\u001b[0m\n\u001b[0;32m-> 2908\u001b[0;31m             \u001b[0mindexer\u001b[0m \u001b[0;34m=\u001b[0m \u001b[0mself\u001b[0m\u001b[0;34m.\u001b[0m\u001b[0mloc\u001b[0m\u001b[0;34m.\u001b[0m\u001b[0m_get_listlike_indexer\u001b[0m\u001b[0;34m(\u001b[0m\u001b[0mkey\u001b[0m\u001b[0;34m,\u001b[0m \u001b[0maxis\u001b[0m\u001b[0;34m=\u001b[0m\u001b[0;36m1\u001b[0m\u001b[0;34m,\u001b[0m \u001b[0mraise_missing\u001b[0m\u001b[0;34m=\u001b[0m\u001b[0;32mTrue\u001b[0m\u001b[0;34m)\u001b[0m\u001b[0;34m[\u001b[0m\u001b[0;36m1\u001b[0m\u001b[0;34m]\u001b[0m\u001b[0;34m\u001b[0m\u001b[0;34m\u001b[0m\u001b[0m\n\u001b[0m\u001b[1;32m   2909\u001b[0m \u001b[0;34m\u001b[0m\u001b[0m\n\u001b[1;32m   2910\u001b[0m         \u001b[0;31m# take() does not accept boolean indexers\u001b[0m\u001b[0;34m\u001b[0m\u001b[0;34m\u001b[0m\u001b[0;34m\u001b[0m\u001b[0m\n",
      "\u001b[0;32m/opt/conda/lib/python3.7/site-packages/pandas/core/indexing.py\u001b[0m in \u001b[0;36m_get_listlike_indexer\u001b[0;34m(self, key, axis, raise_missing)\u001b[0m\n\u001b[1;32m   1252\u001b[0m             \u001b[0mkeyarr\u001b[0m\u001b[0;34m,\u001b[0m \u001b[0mindexer\u001b[0m\u001b[0;34m,\u001b[0m \u001b[0mnew_indexer\u001b[0m \u001b[0;34m=\u001b[0m \u001b[0max\u001b[0m\u001b[0;34m.\u001b[0m\u001b[0m_reindex_non_unique\u001b[0m\u001b[0;34m(\u001b[0m\u001b[0mkeyarr\u001b[0m\u001b[0;34m)\u001b[0m\u001b[0;34m\u001b[0m\u001b[0;34m\u001b[0m\u001b[0m\n\u001b[1;32m   1253\u001b[0m \u001b[0;34m\u001b[0m\u001b[0m\n\u001b[0;32m-> 1254\u001b[0;31m         \u001b[0mself\u001b[0m\u001b[0;34m.\u001b[0m\u001b[0m_validate_read_indexer\u001b[0m\u001b[0;34m(\u001b[0m\u001b[0mkeyarr\u001b[0m\u001b[0;34m,\u001b[0m \u001b[0mindexer\u001b[0m\u001b[0;34m,\u001b[0m \u001b[0maxis\u001b[0m\u001b[0;34m,\u001b[0m \u001b[0mraise_missing\u001b[0m\u001b[0;34m=\u001b[0m\u001b[0mraise_missing\u001b[0m\u001b[0;34m)\u001b[0m\u001b[0;34m\u001b[0m\u001b[0;34m\u001b[0m\u001b[0m\n\u001b[0m\u001b[1;32m   1255\u001b[0m         \u001b[0;32mreturn\u001b[0m \u001b[0mkeyarr\u001b[0m\u001b[0;34m,\u001b[0m \u001b[0mindexer\u001b[0m\u001b[0;34m\u001b[0m\u001b[0;34m\u001b[0m\u001b[0m\n\u001b[1;32m   1256\u001b[0m \u001b[0;34m\u001b[0m\u001b[0m\n",
      "\u001b[0;32m/opt/conda/lib/python3.7/site-packages/pandas/core/indexing.py\u001b[0m in \u001b[0;36m_validate_read_indexer\u001b[0;34m(self, key, indexer, axis, raise_missing)\u001b[0m\n\u001b[1;32m   1302\u001b[0m             \u001b[0;32mif\u001b[0m \u001b[0mraise_missing\u001b[0m\u001b[0;34m:\u001b[0m\u001b[0;34m\u001b[0m\u001b[0;34m\u001b[0m\u001b[0m\n\u001b[1;32m   1303\u001b[0m                 \u001b[0mnot_found\u001b[0m \u001b[0;34m=\u001b[0m \u001b[0mlist\u001b[0m\u001b[0;34m(\u001b[0m\u001b[0mset\u001b[0m\u001b[0;34m(\u001b[0m\u001b[0mkey\u001b[0m\u001b[0;34m)\u001b[0m \u001b[0;34m-\u001b[0m \u001b[0mset\u001b[0m\u001b[0;34m(\u001b[0m\u001b[0max\u001b[0m\u001b[0;34m)\u001b[0m\u001b[0;34m)\u001b[0m\u001b[0;34m\u001b[0m\u001b[0;34m\u001b[0m\u001b[0m\n\u001b[0;32m-> 1304\u001b[0;31m                 \u001b[0;32mraise\u001b[0m \u001b[0mKeyError\u001b[0m\u001b[0;34m(\u001b[0m\u001b[0;34mf\"{not_found} not in index\"\u001b[0m\u001b[0;34m)\u001b[0m\u001b[0;34m\u001b[0m\u001b[0;34m\u001b[0m\u001b[0m\n\u001b[0m\u001b[1;32m   1305\u001b[0m \u001b[0;34m\u001b[0m\u001b[0m\n\u001b[1;32m   1306\u001b[0m             \u001b[0;31m# we skip the warning on Categorical\u001b[0m\u001b[0;34m\u001b[0m\u001b[0;34m\u001b[0m\u001b[0;34m\u001b[0m\u001b[0m\n",
      "\u001b[0;31mKeyError\u001b[0m: \"['sentiment'] not in index\""
     ]
    }
   ],
   "source": [
    "test[['tweetid','sentiment']].to_csv('testsubmission.csv', index=False)"
   ]
  },
  {
   "cell_type": "code",
   "execution_count": 32,
   "metadata": {
    "execution": {
     "iopub.execute_input": "2020-10-12T10:27:44.935375Z",
     "iopub.status.busy": "2020-10-12T10:27:44.914505Z",
     "iopub.status.idle": "2020-10-12T10:27:45.909887Z",
     "shell.execute_reply": "2020-10-12T10:27:45.908943Z"
    },
    "papermill": {
     "duration": 1.07622,
     "end_time": "2020-10-12T10:27:45.910036",
     "exception": false,
     "start_time": "2020-10-12T10:27:44.833816",
     "status": "completed"
    },
    "tags": []
   },
   "outputs": [],
   "source": [
    "y_test = lsvc_op.predict(test['message'])\n",
    "output = pd.DataFrame({'tweetid': test.tweetid,\n",
    "                       'sentiment': y_test})\n",
    "output.to_csv('testsubmission.csv', index=False)\n",
    "# End of Code and Submitted to Kaggle LeaderBoard\n"
   ]
  }
 ],
 "metadata": {
  "kernelspec": {
   "display_name": "Python 3",
   "language": "python",
   "name": "python3"
  },
  "language_info": {
   "codemirror_mode": {
    "name": "ipython",
    "version": 3
   },
   "file_extension": ".py",
   "mimetype": "text/x-python",
   "name": "python",
   "nbconvert_exporter": "python",
   "pygments_lexer": "ipython3",
   "version": "3.7.6"
  },
  "papermill": {
   "duration": 131.690575,
   "end_time": "2020-10-12T10:27:46.072754",
   "environment_variables": {},
   "exception": null,
   "input_path": "__notebook__.ipynb",
   "output_path": "__notebook__.ipynb",
   "parameters": {},
   "start_time": "2020-10-12T10:25:34.382179",
   "version": "2.1.0"
  }
 },
 "nbformat": 4,
 "nbformat_minor": 4
}
